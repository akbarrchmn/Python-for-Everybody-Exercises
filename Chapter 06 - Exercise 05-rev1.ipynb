{
 "cells": [
  {
   "cell_type": "markdown",
   "id": "7f7bd8d3",
   "metadata": {},
   "source": [
    "Take the following Python code that stores a string:\n",
    "<br>\n",
    "str = 'X=DSPAM-Confidence: 0.8475'\n",
    "<br>\n",
    "Use find and string slicing to extract the portion of the string after the colon character, and then use the float function to convert the extracted string into a floating point number."
   ]
  },
  {
   "cell_type": "code",
   "execution_count": 1,
   "id": "81ccad08",
   "metadata": {},
   "outputs": [
    {
     "name": "stdout",
     "output_type": "stream",
     "text": [
      "18\n",
      "25\n",
      "0.8475\n"
     ]
    }
   ],
   "source": [
    "str = 'X-DSPAM-Confidence:0.8475'\n",
    "\n",
    "atpos = str.find(':')\n",
    "print(atpos)\n",
    "\n",
    "sppos = len(str)\n",
    "print(len(str))\n",
    "\n",
    "host = str[atpos+1:(len(str))]\n",
    "flhost = float(host)\n",
    "\n",
    "print(flhost)"
   ]
  },
  {
   "cell_type": "code",
   "execution_count": null,
   "id": "e26cb0db",
   "metadata": {},
   "outputs": [],
   "source": []
  }
 ],
 "metadata": {
  "kernelspec": {
   "display_name": "Python 3 (ipykernel)",
   "language": "python",
   "name": "python3"
  },
  "language_info": {
   "codemirror_mode": {
    "name": "ipython",
    "version": 3
   },
   "file_extension": ".py",
   "mimetype": "text/x-python",
   "name": "python",
   "nbconvert_exporter": "python",
   "pygments_lexer": "ipython3",
   "version": "3.10.9"
  }
 },
 "nbformat": 4,
 "nbformat_minor": 5
}
