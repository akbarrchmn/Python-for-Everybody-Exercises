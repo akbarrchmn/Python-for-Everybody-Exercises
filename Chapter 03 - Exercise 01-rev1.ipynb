{
 "cells": [
  {
   "cell_type": "markdown",
   "id": "7f7bd8d3",
   "metadata": {},
   "source": [
    "Rewrite your pay computations to give the employee 1.5 times the hourly rate for hours worked above 40 hours."
   ]
  },
  {
   "cell_type": "code",
   "execution_count": null,
   "id": "81ccad08",
   "metadata": {},
   "outputs": [],
   "source": [
    "inhours = input('Enter Hours: ')                      #Input your hours here\n",
    "inrate = input('Enter Rate: ')                        #Input your hourly rate here\n",
    "\n",
    "try :\n",
    "    flhours = float(inhours)                          #Convert hours to float type\n",
    "    flrate = float(inrate)                            #Convert hourly rate to float type\n",
    "except :\n",
    "    print('Error! Please enter numeric input!')\n",
    "    quit()\n",
    "\n",
    "if flhours > 40 :                                     #Set conditional execution for hour worked more than 40 hours\n",
    "    print('Overtime!')\n",
    "    fovt = flhours - 40                               #Syntax to get more hours than 40\n",
    "    fpay = (40 * flrate) + (fovt * (flrate * 1.5))    #Syntax to get total rate for regular hours + overtime\n",
    "else :\n",
    "    print('Regular')\n",
    "    fpay = flhours * flrate                           #Syntax to get only regular hours\n",
    "\n",
    "print('Pay:', fpay)"
   ]
  },
  {
   "cell_type": "code",
   "execution_count": null,
   "id": "19757213",
   "metadata": {},
   "outputs": [],
   "source": []
  }
 ],
 "metadata": {
  "kernelspec": {
   "display_name": "Python 3 (ipykernel)",
   "language": "python",
   "name": "python3"
  },
  "language_info": {
   "codemirror_mode": {
    "name": "ipython",
    "version": 3
   },
   "file_extension": ".py",
   "mimetype": "text/x-python",
   "name": "python",
   "nbconvert_exporter": "python",
   "pygments_lexer": "ipython3",
   "version": "3.10.9"
  }
 },
 "nbformat": 4,
 "nbformat_minor": 5
}
