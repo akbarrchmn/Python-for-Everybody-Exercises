{
 "cells": [
  {
   "cell_type": "markdown",
   "id": "7f7bd8d3",
   "metadata": {},
   "source": [
    "This program counts the distribution of the hour of the day for each of the messages.\n",
    "<br>\n",
    "<br>\n",
    "You can pull the hour from the \"From\" line by finding the time string, and then splitting that string into parts using the colon character.\n",
    "<br>\n",
    "<br>\n",
    "Once you have accumulated the counts for each hour, print out the counts, one per line, sorted by hour."
   ]
  },
  {
   "cell_type": "code",
   "execution_count": null,
   "id": "81ccad08",
   "metadata": {},
   "outputs": [],
   "source": [
    "fname = input('Enter a file name: ')\n",
    "fhand = open(fname)\n",
    "\n",
    "counts = dict()\n",
    "\n",
    "for line in fhand :\n",
    "    word = line.rstrip().split()\n",
    "    if len(word) == 0 or word[0] != 'From' :\n",
    "        continue\n",
    "    time = word[5]\n",
    "    hour = time[:2]\n",
    "    #print(hour)\n",
    "    if hour not in counts :\n",
    "        counts[hour] = 1\n",
    "    else :\n",
    "        counts[hour] = counts[hour] + 1\n",
    "\n",
    "print(counts)\n",
    "\n",
    "lst = list()\n",
    "\n",
    "for k, v in list(counts.items()) :\n",
    "    lst.append((k,v))\n",
    "    \n",
    "lst.sort(reverse=False)\n",
    "\n",
    "for k, v in lst[:] :\n",
    "    print(k, v)"
   ]
  }
 ],
 "metadata": {
  "kernelspec": {
   "display_name": "Python 3 (ipykernel)",
   "language": "python",
   "name": "python3"
  },
  "language_info": {
   "codemirror_mode": {
    "name": "ipython",
    "version": 3
   },
   "file_extension": ".py",
   "mimetype": "text/x-python",
   "name": "python",
   "nbconvert_exporter": "python",
   "pygments_lexer": "ipython3",
   "version": "3.10.9"
  }
 },
 "nbformat": 4,
 "nbformat_minor": 5
}
