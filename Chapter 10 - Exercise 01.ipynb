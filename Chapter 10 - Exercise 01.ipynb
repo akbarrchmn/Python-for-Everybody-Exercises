{
 "cells": [
  {
   "cell_type": "markdown",
   "id": "7f7bd8d3",
   "metadata": {},
   "source": [
    "Revise a previous program as follows:\n",
    "<br>\n",
    "<br>\n",
    "Read and parse the \"From\" lines, and pull out the addresses from the line.\n",
    "<br>\n",
    "<br>\n",
    "Count the number of messages from each person using a dictionary\n",
    "<br>\n",
    "<br>\n",
    "After all the data has been read, print the person with the most commits by creating a list of (count, email) tuples from the dictionary.\n",
    "<br>\n",
    "<br>\n",
    "Then, sort the list in reverse order, and print out the person who has the most commits."
   ]
  },
  {
   "cell_type": "code",
   "execution_count": null,
   "id": "81ccad08",
   "metadata": {},
   "outputs": [],
   "source": [
    "fname = input('Enter a file name: ')\n",
    "fhand = open(fname)\n",
    "\n",
    "counts = dict()\n",
    "\n",
    "for line in fhand :\n",
    "    word = line.rstrip().split()\n",
    "    if len(word) == 0 or word[0] != 'From' :\n",
    "        continue\n",
    "    email = word[1]\n",
    "    if email not in counts :\n",
    "        counts[email] = 1\n",
    "    else :\n",
    "        counts[email] = counts[email] + 1\n",
    "print(counts)\n",
    "\n",
    "lst = list()\n",
    "\n",
    "for k, v in list(counts.items()) :\n",
    "    lst.append((v,k))\n",
    "\n",
    "lst.sort(reverse = True)\n",
    "\n",
    "for k, v in lst[:1] :\n",
    "    print(v, k)"
   ]
  }
 ],
 "metadata": {
  "kernelspec": {
   "display_name": "Python 3 (ipykernel)",
   "language": "python",
   "name": "python3"
  },
  "language_info": {
   "codemirror_mode": {
    "name": "ipython",
    "version": 3
   },
   "file_extension": ".py",
   "mimetype": "text/x-python",
   "name": "python",
   "nbconvert_exporter": "python",
   "pygments_lexer": "ipython3",
   "version": "3.10.9"
  }
 },
 "nbformat": 4,
 "nbformat_minor": 5
}
