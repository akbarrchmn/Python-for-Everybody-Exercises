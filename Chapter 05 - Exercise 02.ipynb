{
 "cells": [
  {
   "cell_type": "markdown",
   "id": "7f7bd8d3",
   "metadata": {},
   "source": [
    "Write another program that prompts for a list of numbers as above, and at the end prints out both the maximum and minimum of the numbers, instead of the average."
   ]
  },
  {
   "cell_type": "code",
   "execution_count": 1,
   "id": "81ccad08",
   "metadata": {},
   "outputs": [
    {
     "name": "stdout",
     "output_type": "stream",
     "text": [
      "Enter a number: 10\n",
      "Enter a number: 20\n",
      "Enter a number: 22\n",
      "Enter a number: 31\n",
      "Enter a number: 21\n",
      "Enter a number: done\n",
      "Maximum is 31\n",
      "Minimum is 21\n"
     ]
    }
   ],
   "source": [
    "num = 0\n",
    "tot = 0.00\n",
    "largest = None\n",
    "smallest = None\n",
    "\n",
    "while True :\n",
    "    sval = input('Enter a number: ')\n",
    "    if sval == 'done' :\n",
    "        break\n",
    "    try :\n",
    "        ival = int(sval)    \n",
    "        if largest is None or ival > largest :\n",
    "            largest = ival\n",
    "        elif smallest is None or ival < smallest :\n",
    "            smallest = ival\n",
    "        #print(ival)\n",
    "    except :\n",
    "        print('Invalid input')\n",
    "        continue\n",
    "    \n",
    "    num = num + 1\n",
    "    tot = tot + ival\n",
    "\n",
    "#print('Done!')\n",
    "#print(tot, num, tot/num)\n",
    "print('Maximum is', largest)\n",
    "print('Minimum is', smallest)"
   ]
  }
 ],
 "metadata": {
  "kernelspec": {
   "display_name": "Python 3 (ipykernel)",
   "language": "python",
   "name": "python3"
  },
  "language_info": {
   "codemirror_mode": {
    "name": "ipython",
    "version": 3
   },
   "file_extension": ".py",
   "mimetype": "text/x-python",
   "name": "python",
   "nbconvert_exporter": "python",
   "pygments_lexer": "ipython3",
   "version": "3.10.9"
  }
 },
 "nbformat": 4,
 "nbformat_minor": 5
}
