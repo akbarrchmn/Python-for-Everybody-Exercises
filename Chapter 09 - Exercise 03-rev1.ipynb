{
 "cells": [
  {
   "cell_type": "markdown",
   "id": "7f7bd8d3",
   "metadata": {},
   "source": [
    "Write a program to read through a mail log, build a histogram using a dictionary to count how many messages have come from each email addresses, and print the dictionary."
   ]
  },
  {
   "cell_type": "code",
   "execution_count": null,
   "id": "81ccad08",
   "metadata": {},
   "outputs": [],
   "source": [
    "count = 0\n",
    "dictionary_words = dict() \n",
    "\n",
    "fhand = input('Enter file name: ')                  \n",
    "fname = open(fhand)\n",
    "\n",
    "for line in fname :\n",
    "    words = line.split()\n",
    "    if len(words) < 3 or words[0] != 'From' :\n",
    "        continue\n",
    "    else :\n",
    "        if words[1] not in dictionary_words :\n",
    "            dictionary_words[words[1]] = 1\n",
    "        else :\n",
    "            dictionary_words[words[1]] += 1\n",
    "            \n",
    "print(dictionary_words)"
   ]
  }
 ],
 "metadata": {
  "kernelspec": {
   "display_name": "Python 3 (ipykernel)",
   "language": "python",
   "name": "python3"
  },
  "language_info": {
   "codemirror_mode": {
    "name": "ipython",
    "version": 3
   },
   "file_extension": ".py",
   "mimetype": "text/x-python",
   "name": "python",
   "nbconvert_exporter": "python",
   "pygments_lexer": "ipython3",
   "version": "3.10.9"
  }
 },
 "nbformat": 4,
 "nbformat_minor": 5
}
