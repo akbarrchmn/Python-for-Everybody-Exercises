{
 "cells": [
  {
   "cell_type": "markdown",
   "id": "7f7bd8d3",
   "metadata": {},
   "source": [
    "Write a program which prompts the user for a Celsius temperature, convert the temperature to Fahrenheit, and print out the converted temperature."
   ]
  },
  {
   "cell_type": "code",
   "execution_count": 1,
   "id": "81ccad08",
   "metadata": {},
   "outputs": [
    {
     "name": "stdout",
     "output_type": "stream",
     "text": [
      "Enter your Celcius temp here: 36\n",
      "Your Fahrenheit temp is 96.8 degrees\n"
     ]
    }
   ],
   "source": [
    "intemp = input('Enter your Celcius temp here: ')     #Input your Celsius temperature here\n",
    "fltemp = float(intemp)                               #Convert value to float type\n",
    "fahr = fltemp * 1.8 + 32                             #Create your syntax for Celsius to Fahrenheit conversion\n",
    "print('Your Fahrenheit temp is', fahr, 'degrees')"
   ]
  }
 ],
 "metadata": {
  "kernelspec": {
   "display_name": "Python 3 (ipykernel)",
   "language": "python",
   "name": "python3"
  },
  "language_info": {
   "codemirror_mode": {
    "name": "ipython",
    "version": 3
   },
   "file_extension": ".py",
   "mimetype": "text/x-python",
   "name": "python",
   "nbconvert_exporter": "python",
   "pygments_lexer": "ipython3",
   "version": "3.10.9"
  }
 },
 "nbformat": 4,
 "nbformat_minor": 5
}
