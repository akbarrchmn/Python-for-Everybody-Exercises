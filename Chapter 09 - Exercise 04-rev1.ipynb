{
 "cells": [
  {
   "cell_type": "markdown",
   "id": "7f7bd8d3",
   "metadata": {},
   "source": [
    "Add code to the above program to figure out who has the most messages in the file.\n",
    "<br>\n",
    "<br>\n",
    "After all the data has been read and the dictionary has been created, look through the dictionary using a maximum loop, to find who has the most messages, and print how many messages the person has."
   ]
  },
  {
   "cell_type": "code",
   "execution_count": null,
   "id": "81ccad08",
   "metadata": {},
   "outputs": [],
   "source": [
    "counts = dict()\n",
    "maximum = 0\n",
    "maximum_address = None\n",
    "\n",
    "fname = input('Enter a file name: ')\n",
    "fhand = open(fname)\n",
    "\n",
    "for line in fhand :\n",
    "    words = line.rstrip().split()\n",
    "    if len(words) == 0 or words[0] != 'From' :\n",
    "        continue\n",
    "    words2 = words[1]\n",
    "    if words2 not in counts :\n",
    "        counts[words2] = 1\n",
    "    else :\n",
    "        counts[words2] = counts[words2] + 1      \n",
    "print(counts)\n",
    "\n",
    "for element in counts :\n",
    "    if counts[element] > maximum :\n",
    "        maximum = counts[element]\n",
    "        maximum_address = element\n",
    "\n",
    "print(maximum_address, maximum)"
   ]
  }
 ],
 "metadata": {
  "kernelspec": {
   "display_name": "Python 3 (ipykernel)",
   "language": "python",
   "name": "python3"
  },
  "language_info": {
   "codemirror_mode": {
    "name": "ipython",
    "version": 3
   },
   "file_extension": ".py",
   "mimetype": "text/x-python",
   "name": "python",
   "nbconvert_exporter": "python",
   "pygments_lexer": "ipython3",
   "version": "3.10.9"
  }
 },
 "nbformat": 4,
 "nbformat_minor": 5
}
