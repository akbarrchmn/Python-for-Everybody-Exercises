{
 "cells": [
  {
   "cell_type": "markdown",
   "id": "7f7bd8d3",
   "metadata": {},
   "source": [
    "Encapsulate this code in a function named count, generalize it so that it accepts the string and the letter as arguments."
   ]
  },
  {
   "cell_type": "code",
   "execution_count": 1,
   "id": "81ccad08",
   "metadata": {},
   "outputs": [
    {
     "name": "stdout",
     "output_type": "stream",
     "text": [
      "Sebutkan kata yang kamu mau hitung: Supercalifragilisticexpialidocius\n",
      "Huruf apa yang kamu mau hitung jumlahnya? e\n",
      "2\n"
     ]
    }
   ],
   "source": [
    "def count(word, letter) :\n",
    "    hitung = 0\n",
    "    for huruf in word :\n",
    "        if huruf == letter :\n",
    "            hitung = hitung + 1\n",
    "    print(hitung)\n",
    "    \n",
    "input_word = input('Sebutkan kata yang kamu mau hitung: ')\n",
    "input_letter = input('Huruf apa yang kamu mau hitung jumlahnya? ')\n",
    "count(input_word, input_letter)"
   ]
  }
 ],
 "metadata": {
  "kernelspec": {
   "display_name": "Python 3 (ipykernel)",
   "language": "python",
   "name": "python3"
  },
  "language_info": {
   "codemirror_mode": {
    "name": "ipython",
    "version": 3
   },
   "file_extension": ".py",
   "mimetype": "text/x-python",
   "name": "python",
   "nbconvert_exporter": "python",
   "pygments_lexer": "ipython3",
   "version": "3.10.9"
  }
 },
 "nbformat": 4,
 "nbformat_minor": 5
}
