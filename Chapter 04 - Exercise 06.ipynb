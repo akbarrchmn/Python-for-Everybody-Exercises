{
 "cells": [
  {
   "cell_type": "markdown",
   "id": "7f7bd8d3",
   "metadata": {},
   "source": [
    "Rewrite your pay computation with time-and-a-half for overtime, and create a function called computepay which takes two parameters (hours and rate)."
   ]
  },
  {
   "cell_type": "code",
   "execution_count": 1,
   "id": "81ccad08",
   "metadata": {},
   "outputs": [
    {
     "name": "stdout",
     "output_type": "stream",
     "text": [
      "Enter Hours: 45\n",
      "Enter Rate: 10\n",
      "In computepay  45.0 10.0\n",
      "Overtime!\n",
      "Pay:  675.0\n"
     ]
    }
   ],
   "source": [
    "def computepay(hours, rate) :             #Start compiling your function with parameters \"hours\" & \"rate\"\n",
    "    print('In computepay ', hours, rate)\n",
    "\n",
    "sh = input('Enter Hours: ')               #Input your values here, and then convert them to float type\n",
    "sr = input('Enter Rate: ')\n",
    "fh = float(sh)\n",
    "fr = float(sr)\n",
    "\n",
    "computepay(fh, fr)                        #Activate your function\n",
    "\n",
    "if fh > 40 :\n",
    "    print('Overtime!')\n",
    "    xp = fr * 1.5 * fh\n",
    "else :\n",
    "    print('Regular')\n",
    "    xp = fh * fr\n",
    "print('Pay: ', xp)"
   ]
  }
 ],
 "metadata": {
  "kernelspec": {
   "display_name": "Python 3 (ipykernel)",
   "language": "python",
   "name": "python3"
  },
  "language_info": {
   "codemirror_mode": {
    "name": "ipython",
    "version": 3
   },
   "file_extension": ".py",
   "mimetype": "text/x-python",
   "name": "python",
   "nbconvert_exporter": "python",
   "pygments_lexer": "ipython3",
   "version": "3.10.9"
  }
 },
 "nbformat": 4,
 "nbformat_minor": 5
}
