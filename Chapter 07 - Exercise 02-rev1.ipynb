{
 "cells": [
  {
   "cell_type": "markdown",
   "id": "7f7bd8d3",
   "metadata": {},
   "source": [
    "Write a program to prompt for a file name, and then read through the file and look for lines of the form:\n",
    "<br>\n",
    "<br>\n",
    "X-DSPAM-Confidence: 0.8475\n",
    "<br>\n",
    "<br>\n",
    "When you encounter a line that starts with \"X-DSPAM-Confidence:\", pull apart the line to extract the floating-point number on the line.\n",
    "<br>\n",
    "<br>\n",
    "Count these lines and then compute the total of the spam confidence values from these lines.\n",
    "<br>\n",
    "<br>\n",
    "When you reach the end of the file, print out the average spam confidence."
   ]
  },
  {
   "cell_type": "code",
   "execution_count": null,
   "id": "81ccad08",
   "metadata": {},
   "outputs": [],
   "source": [
    "finput = input('Enter file name: ')\n",
    "\n",
    "try :\n",
    "    fopen = open(finput)\n",
    "except :\n",
    "    print('File cannot be opened!')\n",
    "    exit()\n",
    "\n",
    "count = 0\n",
    "total = 0.00\n",
    "\n",
    "for line in fopen :\n",
    "    line = line.rstrip()\n",
    "    if line.startswith('X-DSPAM-Confidence:') :\n",
    "        atpos = line.find(':')\n",
    "        host = line[atpos+1:]\n",
    "        flhost = float(host)\n",
    "        \n",
    "        count = count + 1\n",
    "        total = total + flhost\n",
    "        average = total/count\n",
    "        \n",
    "        print(flhost)\n",
    "\n",
    "print(count, total)\n",
    "print('Average spam confidence: ', average)"
   ]
  }
 ],
 "metadata": {
  "kernelspec": {
   "display_name": "Python 3 (ipykernel)",
   "language": "python",
   "name": "python3"
  },
  "language_info": {
   "codemirror_mode": {
    "name": "ipython",
    "version": 3
   },
   "file_extension": ".py",
   "mimetype": "text/x-python",
   "name": "python",
   "nbconvert_exporter": "python",
   "pygments_lexer": "ipython3",
   "version": "3.10.9"
  }
 },
 "nbformat": 4,
 "nbformat_minor": 5
}
