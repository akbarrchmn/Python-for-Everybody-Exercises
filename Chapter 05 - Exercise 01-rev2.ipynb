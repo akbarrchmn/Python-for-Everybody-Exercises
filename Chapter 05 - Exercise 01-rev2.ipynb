{
 "cells": [
  {
   "cell_type": "markdown",
   "id": "7f7bd8d3",
   "metadata": {},
   "source": [
    "Write a program which repeatedly reads numbers until the user enters \"done\".\n",
    "<br>\n",
    "Once \"done\" is entered, print out the total, count, and average of the numbers.\n",
    "<br>\n",
    "If the user enters anything other than a number, detect their mistake using try and except, and print an error message, and skip to the next number."
   ]
  },
  {
   "cell_type": "code",
   "execution_count": 1,
   "id": "81ccad08",
   "metadata": {},
   "outputs": [
    {
     "name": "stdout",
     "output_type": "stream",
     "text": [
      "Enter a number: 1\n",
      "1.0\n",
      "Enter a number: 2\n",
      "2.0\n",
      "Enter a number: 3\n",
      "3.0\n",
      "Enter a number: 55\n",
      "55.0\n",
      "Enter a number: done\n",
      "61.0 4 15.25\n",
      "Minimum number is  1.0 and maximum number is  55.0\n"
     ]
    }
   ],
   "source": [
    "count = 0         \n",
    "total = 0.00\n",
    "smallest = None\n",
    "largest = None\n",
    "\n",
    "while True :                                        #Start your iteration here\n",
    "    finput = input('Enter a number: ')              \n",
    "    if finput == 'done' :                           \n",
    "            break\n",
    "    try :\n",
    "        flnum = float(finput)                       #Convert input into float type\n",
    "        if smallest is None or flnum < smallest :   #Set your conditional inside your loop/iteration\n",
    "            smallest = flnum\n",
    "        if largest is None or flnum > smallest :\n",
    "            largest = flnum\n",
    "        print(flnum)\n",
    "    except:\n",
    "        print('Invalid data!')\n",
    "        continue\n",
    "   \n",
    "    count = count + 1                               #Syntax to count how many data you entered\n",
    "    total = total + flnum                           #Syntax to get total sum of data entered\n",
    "    average = total/count                           #Syntax to get average\n",
    "\n",
    "print(total, count, average)\n",
    "print('Minimum number is ', smallest, 'and maximum number is ', largest)"
   ]
  }
 ],
 "metadata": {
  "kernelspec": {
   "display_name": "Python 3 (ipykernel)",
   "language": "python",
   "name": "python3"
  },
  "language_info": {
   "codemirror_mode": {
    "name": "ipython",
    "version": 3
   },
   "file_extension": ".py",
   "mimetype": "text/x-python",
   "name": "python",
   "nbconvert_exporter": "python",
   "pygments_lexer": "ipython3",
   "version": "3.10.9"
  }
 },
 "nbformat": 4,
 "nbformat_minor": 5
}
