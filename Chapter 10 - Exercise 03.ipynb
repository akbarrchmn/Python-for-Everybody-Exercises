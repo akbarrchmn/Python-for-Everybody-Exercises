{
 "cells": [
  {
   "cell_type": "markdown",
   "id": "7f7bd8d3",
   "metadata": {},
   "source": [
    "Write a program that reads a file, and prints the *letters* in decreasing order of frequency.\n",
    "<br>\n",
    "<br>\n",
    "Your program should convert all the input to lower case, and only count the letters a-z.\n",
    "<br>\n",
    "<br>\n",
    "Your program should not count spaces, digits, punctuation, or anything other than the letters a-z.\n",
    "<br>\n",
    "<br>\n",
    "Find text samples from several different languages, and see how letter frequency varies between languages."
   ]
  },
  {
   "cell_type": "code",
   "execution_count": null,
   "id": "81ccad08",
   "metadata": {},
   "outputs": [],
   "source": [
    "fname = input('Enter a file name: ')\n",
    "fhand = open(fname)\n",
    "\n",
    "counts = dict()\n",
    "\n",
    "for line in fhand :\n",
    "    line = line.lower()\n",
    "    words = line.rstrip().split()\n",
    "    #print(words)\n",
    "    for word in words :\n",
    "        for element in word :\n",
    "            if element != 'a' and element != 'b' and element != 'c' and element != 'e' and element != 'f' and element != 'g' and element != 'h' and element != 'i' and element != 'j' and element != 'k' and element != 'l' and element != 'm' and element != 'n' and element != 'o' and element != 'p' and element != 'q' and element != 'r' and element != 's' and element != 't' and element != 'u' and element != 'v' and element != 'w' and element != 'x' and element != 'y' and element != 'z' :\n",
    "                continue\n",
    "            if element not in counts :\n",
    "                counts[element] = 1\n",
    "            else :\n",
    "                counts[element] = counts[element] + 1\n",
    "#print(counts)\n",
    "\n",
    "lst = list()\n",
    "\n",
    "for k, v in list(counts.items()) :\n",
    "    lst.append((k,v))\n",
    "    \n",
    "lst.sort()\n",
    "\n",
    "for k, v in lst[:] :\n",
    "    print(k, v)"
   ]
  }
 ],
 "metadata": {
  "kernelspec": {
   "display_name": "Python 3 (ipykernel)",
   "language": "python",
   "name": "python3"
  },
  "language_info": {
   "codemirror_mode": {
    "name": "ipython",
    "version": 3
   },
   "file_extension": ".py",
   "mimetype": "text/x-python",
   "name": "python",
   "nbconvert_exporter": "python",
   "pygments_lexer": "ipython3",
   "version": "3.10.9"
  }
 },
 "nbformat": 4,
 "nbformat_minor": 5
}
