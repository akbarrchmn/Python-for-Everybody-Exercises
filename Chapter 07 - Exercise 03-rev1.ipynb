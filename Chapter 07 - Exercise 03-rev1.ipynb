{
 "cells": [
  {
   "cell_type": "markdown",
   "id": "7f7bd8d3",
   "metadata": {},
   "source": [
    "Sometimes when programmers get bored or want to have a bit of fun, they add a harmless *Easter Egg* to their program.\n",
    "<br>\n",
    "<br>\n",
    "Modify the program that prompts the user for the file name, so that it prints a funny message when the user types in the exact file name \"na na boo boo\".\n",
    "<br>\n",
    "<br>\n",
    "The program should behave normally for all the other files which exist and don't exist."
   ]
  },
  {
   "cell_type": "code",
   "execution_count": null,
   "id": "81ccad08",
   "metadata": {},
   "outputs": [],
   "source": [
    "finput = input('Enter file name: ')\n",
    "\n",
    "if finput == 'na na boo boo' :\n",
    "        print('NA NA BOO BOO TO YOU - You have been punk\\'d!')\n",
    "try :\n",
    "    fopen = open(finput)\n",
    "except :\n",
    "    print('File cannot be opened: ', finput)\n",
    "    exit()\n",
    "\n",
    "count = 0\n",
    "\n",
    "for line in fopen :\n",
    "    if line.startswith('Subject:') :\n",
    "        count = count + 1\n",
    "\n",
    "print('There were', count, 'subject lines in', finput)"
   ]
  }
 ],
 "metadata": {
  "kernelspec": {
   "display_name": "Python 3 (ipykernel)",
   "language": "python",
   "name": "python3"
  },
  "language_info": {
   "codemirror_mode": {
    "name": "ipython",
    "version": 3
   },
   "file_extension": ".py",
   "mimetype": "text/x-python",
   "name": "python",
   "nbconvert_exporter": "python",
   "pygments_lexer": "ipython3",
   "version": "3.10.9"
  }
 },
 "nbformat": 4,
 "nbformat_minor": 5
}
