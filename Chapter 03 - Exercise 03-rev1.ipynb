{
 "cells": [
  {
   "cell_type": "markdown",
   "id": "7f7bd8d3",
   "metadata": {},
   "source": [
    "Write a program to prompt for a score between 0.0 and 1.0\n",
    "<br>\n",
    "If the score is out of range, print an error message.\n",
    "<br>\n",
    "If the score is between 0.0 and 1.0, print a grade using the following table:\n",
    "<br>\n",
    "<br>\n",
    ">= 0.9 A\n",
    "<br>\n",
    ">= 0.8 B\n",
    "<br>\n",
    ">= 0.7 C\n",
    "<br>\n",
    ">= 0.6 D\n",
    "<br>\n",
    "< 0.6 F"
   ]
  },
  {
   "cell_type": "code",
   "execution_count": 2,
   "id": "81ccad08",
   "metadata": {},
   "outputs": [
    {
     "name": "stdout",
     "output_type": "stream",
     "text": [
      "Enter score: 0.5\n",
      "F\n"
     ]
    }
   ],
   "source": [
    "inscore = input('Enter score: ')        #Input your score here\n",
    "\n",
    "try :\n",
    "    fscore = float(inscore)             #Convert your score to float type\n",
    "except :                                #Add try & except \n",
    "    print('Bad score!')\n",
    "    exit()\n",
    "\n",
    "if fscore >= 0.9 and fscore <= 10.0 :   #Start conditional execution with if, elif, and else\n",
    "    print('A')\n",
    "elif fscore >= 0.8 and fscore < 0.9 :\n",
    "    print('B')\n",
    "elif fscore >= 0.7 and fscore < 0.8 :\n",
    "    print('C')\n",
    "elif fscore >= 0.6 and fscore < 0.7 :\n",
    "    print('D')\n",
    "elif fscore < 0.6 :\n",
    "    print('F')\n",
    "else :\n",
    "    print('Bad score!')"
   ]
  }
 ],
 "metadata": {
  "kernelspec": {
   "display_name": "Python 3 (ipykernel)",
   "language": "python",
   "name": "python3"
  },
  "language_info": {
   "codemirror_mode": {
    "name": "ipython",
    "version": 3
   },
   "file_extension": ".py",
   "mimetype": "text/x-python",
   "name": "python",
   "nbconvert_exporter": "python",
   "pygments_lexer": "ipython3",
   "version": "3.10.9"
  }
 },
 "nbformat": 4,
 "nbformat_minor": 5
}
