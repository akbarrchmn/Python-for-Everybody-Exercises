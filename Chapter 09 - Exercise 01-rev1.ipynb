{
 "cells": [
  {
   "cell_type": "markdown",
   "id": "7f7bd8d3",
   "metadata": {},
   "source": [
    "Write a program that reads the words in *words.txt* and stores them as keys in dictionary.\n",
    "<br>\n",
    "<br>\n",
    "It doesn't matter what the values are.\n",
    "<br>\n",
    "<br>\n",
    "Then you can use the `in` operator as a fast way to check whether a string is in the dictionary or not."
   ]
  },
  {
   "cell_type": "code",
   "execution_count": null,
   "id": "81ccad08",
   "metadata": {},
   "outputs": [],
   "source": [
    "count = 0\n",
    "dictionary_words = dict()\n",
    "\n",
    "fname = input('Enter file name: ')\n",
    "fhand = open(fname)\n",
    "\n",
    "for line in fhand :\n",
    "    word = line.split()\n",
    "    for element in word :\n",
    "        count = count + 1\n",
    "        if element in dictionary_words :\n",
    "            continue\n",
    "        dictionary_words[element] = count\n",
    "\n",
    "fcheck = input('Check word? ')\n",
    "\n",
    "if fcheck in dictionary_words :\n",
    "    print('True!')\n",
    "if fcheck not in dictionary_words :\n",
    "    print('False!')"
   ]
  }
 ],
 "metadata": {
  "kernelspec": {
   "display_name": "Python 3 (ipykernel)",
   "language": "python",
   "name": "python3"
  },
  "language_info": {
   "codemirror_mode": {
    "name": "ipython",
    "version": 3
   },
   "file_extension": ".py",
   "mimetype": "text/x-python",
   "name": "python",
   "nbconvert_exporter": "python",
   "pygments_lexer": "ipython3",
   "version": "3.10.9"
  }
 },
 "nbformat": 4,
 "nbformat_minor": 5
}
