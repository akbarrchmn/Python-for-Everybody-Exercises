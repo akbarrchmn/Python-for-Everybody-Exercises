{
 "cells": [
  {
   "cell_type": "markdown",
   "id": "7f7bd8d3",
   "metadata": {},
   "source": [
    "Rewrite the grade program from the previous chapter using a function callled computegrade that takes a score as its parameter and returns a grade as a string.\n",
    "<br>\n",
    "<br>\n",
    ">= 0.9 A\n",
    "<br>\n",
    ">= 0.8 B\n",
    "<br>\n",
    ">= 0.7 C\n",
    "<br>\n",
    ">= 0.6 D\n",
    "<br>\n",
    "< 0.6 F"
   ]
  },
  {
   "cell_type": "code",
   "execution_count": 1,
   "id": "81ccad08",
   "metadata": {},
   "outputs": [
    {
     "name": "stdout",
     "output_type": "stream",
     "text": [
      "Enter score: 0.55\n",
      "F\n"
     ]
    }
   ],
   "source": [
    "def computegrade() :                         #Start compiling your function\n",
    "    try :\n",
    "        fscore = float(inscore)              #Convert score value to float type\n",
    "    except :\n",
    "        print('Bad score!')\n",
    "        exit()\n",
    "    if fscore >= 0.9 and fscore <= 10.0 :    #Start your conditional execution\n",
    "        print('A')\n",
    "    elif fscore >= 0.8 and fscore < 0.9 :\n",
    "        print('B')\n",
    "    elif fscore >= 0.7 and fscore < 0.8 :\n",
    "        print('C')\n",
    "    elif fscore >= 0.6 and fscore < 0.7 :\n",
    "        print('D')\n",
    "    elif fscore < 0.6 :\n",
    "        print('F')\n",
    "    else :\n",
    "        print('Bad score!')\n",
    "\n",
    "inscore = input('Enter score: ')\n",
    "computegrade()"
   ]
  }
 ],
 "metadata": {
  "kernelspec": {
   "display_name": "Python 3 (ipykernel)",
   "language": "python",
   "name": "python3"
  },
  "language_info": {
   "codemirror_mode": {
    "name": "ipython",
    "version": 3
   },
   "file_extension": ".py",
   "mimetype": "text/x-python",
   "name": "python",
   "nbconvert_exporter": "python",
   "pygments_lexer": "ipython3",
   "version": "3.10.9"
  }
 },
 "nbformat": 4,
 "nbformat_minor": 5
}
