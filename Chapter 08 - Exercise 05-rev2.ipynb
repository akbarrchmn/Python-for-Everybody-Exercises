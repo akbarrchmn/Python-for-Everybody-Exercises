{
 "cells": [
  {
   "cell_type": "markdown",
   "id": "7f7bd8d3",
   "metadata": {},
   "source": [
    "Write a program to read through the mail box data, and when you find line that starts with \"From:\", you will split the line into words using the split function.\n",
    "<br>\n",
    "<br>\n",
    "We are interested in who sent the message, which is the second word on the From line.\n",
    "<br>\n",
    "<br>\n",
    "You will parse the From line, and print out the second word for each From line, then you will also count the number of From (not From:) lines, and print out a count at the end."
   ]
  },
  {
   "cell_type": "code",
   "execution_count": null,
   "id": "81ccad08",
   "metadata": {},
   "outputs": [],
   "source": [
    "fname = input('Enter a file name: ')\n",
    "fhand = open(fname)\n",
    "\n",
    "count = 0\n",
    "\n",
    "for line in fhand :\n",
    "    word = line.rstrip().split()\n",
    "    if len(word) == 0 :\n",
    "        continue\n",
    "    if word[0] != 'From' :\n",
    "        continue\n",
    "    print(word[1])\n",
    "    count = count + 1\n",
    "\n",
    "print('There were', count, 'lines in the file with From as the first word')"
   ]
  }
 ],
 "metadata": {
  "kernelspec": {
   "display_name": "Python 3 (ipykernel)",
   "language": "python",
   "name": "python3"
  },
  "language_info": {
   "codemirror_mode": {
    "name": "ipython",
    "version": 3
   },
   "file_extension": ".py",
   "mimetype": "text/x-python",
   "name": "python",
   "nbconvert_exporter": "python",
   "pygments_lexer": "ipython3",
   "version": "3.10.9"
  }
 },
 "nbformat": 4,
 "nbformat_minor": 5
}
