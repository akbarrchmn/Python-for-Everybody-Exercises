{
 "cells": [
  {
   "cell_type": "markdown",
   "id": "7f7bd8d3",
   "metadata": {},
   "source": [
    "Write a function called chop that takes a list and modifies it, removing the first and last elements, and returns None.\n",
    "<br>\n",
    "<br>\n",
    "Then write a function called middle that takes a list and returns a new list that contains all but the first and last elements."
   ]
  },
  {
   "cell_type": "code",
   "execution_count": 1,
   "id": "81ccad08",
   "metadata": {},
   "outputs": [
    {
     "name": "stdout",
     "output_type": "stream",
     "text": [
      "['b']\n",
      "None\n",
      "['b']\n"
     ]
    }
   ],
   "source": [
    "def chop(t) :\n",
    "    del t[0]\n",
    "    del t[-1]\n",
    "    print(t)\n",
    "    t2 = t.append('d')\n",
    "    print(t2)\n",
    "\n",
    "def middle(t) :\n",
    "    t2 = t\n",
    "    del t2[0]\n",
    "    del t2[-1]\n",
    "    print(t2)\n",
    "    \n",
    "letters = ['a', 'b', 'c']\n",
    "letters2 = ['a', 'b', 'c']\n",
    "\n",
    "chop(letters)\n",
    "middle(letters2)"
   ]
  }
 ],
 "metadata": {
  "kernelspec": {
   "display_name": "Python 3 (ipykernel)",
   "language": "python",
   "name": "python3"
  },
  "language_info": {
   "codemirror_mode": {
    "name": "ipython",
    "version": 3
   },
   "file_extension": ".py",
   "mimetype": "text/x-python",
   "name": "python",
   "nbconvert_exporter": "python",
   "pygments_lexer": "ipython3",
   "version": "3.10.9"
  }
 },
 "nbformat": 4,
 "nbformat_minor": 5
}
