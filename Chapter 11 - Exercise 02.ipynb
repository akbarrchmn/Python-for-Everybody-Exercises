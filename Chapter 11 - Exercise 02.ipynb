{
 "cells": [
  {
   "cell_type": "markdown",
   "id": "7f7bd8d3",
   "metadata": {},
   "source": [
    "Write a program to look for lines of the form:\n",
    "<br>\n",
    "<br>\n",
    "`New Revision: 39772`\n",
    "<br>\n",
    "<br>\n",
    "Extract the number from each of the lines using a regular expression and the `findall()` method.\n",
    "<br>\n",
    "<br>\n",
    "Compute the average of the numbers and print out the average as an integer."
   ]
  },
  {
   "cell_type": "code",
   "execution_count": null,
   "id": "81ccad08",
   "metadata": {},
   "outputs": [],
   "source": [
    "import re\n",
    "\n",
    "count = 0\n",
    "total = 0.00\n",
    "\n",
    "fname = input('Enter file name: ')\n",
    "fhand = open(fname)\n",
    "\n",
    "for line in fhand :\n",
    "    line = line.rstrip()\n",
    "    x = re.findall('^New Revision: ([0-9.]+)', line)\n",
    "    if len(x) == 0 :\n",
    "        continue\n",
    "    for element in x :  \n",
    "        intx = int(element)\n",
    "        #print(intx)\n",
    "        count = count + 1\n",
    "        total = total + intx\n",
    "        average = total/count\n",
    "        intavg = int(average)\n",
    "\n",
    "print(intavg)"
   ]
  }
 ],
 "metadata": {
  "kernelspec": {
   "display_name": "Python 3 (ipykernel)",
   "language": "python",
   "name": "python3"
  },
  "language_info": {
   "codemirror_mode": {
    "name": "ipython",
    "version": 3
   },
   "file_extension": ".py",
   "mimetype": "text/x-python",
   "name": "python",
   "nbconvert_exporter": "python",
   "pygments_lexer": "ipython3",
   "version": "3.10.9"
  }
 },
 "nbformat": 4,
 "nbformat_minor": 5
}
