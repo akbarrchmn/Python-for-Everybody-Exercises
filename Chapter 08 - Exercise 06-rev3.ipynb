{
 "cells": [
  {
   "cell_type": "markdown",
   "id": "7f7bd8d3",
   "metadata": {},
   "source": [
    "Rewrite the program that prompts the user for a list of numbers, and prints out the maximum and minimum of the numbers at the end when the users enters \"done\".\n",
    "<br>\n",
    "<br>\n",
    "Write the program to store the numbers the user enters in a list, and use the max() and min() functions to compute the maximum and minimum numbers after the loop completes."
   ]
  },
  {
   "cell_type": "code",
   "execution_count": 1,
   "id": "81ccad08",
   "metadata": {},
   "outputs": [
    {
     "name": "stdout",
     "output_type": "stream",
     "text": [
      "Enter a number: 1\n",
      "Enter a number: 2\n",
      "Enter a number: 3\n",
      "Enter a number: 4\n",
      "Enter a number: 5\n",
      "Enter a number: \n",
      "Bad data!\n",
      "Enter a number: 2\n",
      "Enter a number: 4\n",
      "Enter a number: done\n",
      "[1.0, 2.0, 3.0, 4.0, 5.0, 5.0, 2.0, 4.0]\n",
      "Maximum:  5.0\n",
      "Minimimu:  1.0\n",
      "How many inputs?  8\n",
      "Total?  26.0\n"
     ]
    }
   ],
   "source": [
    "lst = list()\n",
    "total = 0.00\n",
    "count = 0\n",
    "\n",
    "while True :\n",
    "    fnumber = input('Enter a number: ')\n",
    "    if fnumber == 'done' :\n",
    "        break\n",
    "    try :\n",
    "        flnum = float(fnumber)\n",
    "    except :\n",
    "        print('Bad data!')\n",
    "    lst.append(flnum)\n",
    "    count = count + 1\n",
    "    total = total + flnum\n",
    "\n",
    "maksi = max(lst)\n",
    "mini = min(lst)\n",
    "\n",
    "print(lst)\n",
    "print('Maximum: ', maksi)\n",
    "print('Minimum: ', mini)\n",
    "print('How many inputs? ', count)\n",
    "print('Total? ', total)"
   ]
  }
 ],
 "metadata": {
  "kernelspec": {
   "display_name": "Python 3 (ipykernel)",
   "language": "python",
   "name": "python3"
  },
  "language_info": {
   "codemirror_mode": {
    "name": "ipython",
    "version": 3
   },
   "file_extension": ".py",
   "mimetype": "text/x-python",
   "name": "python",
   "nbconvert_exporter": "python",
   "pygments_lexer": "ipython3",
   "version": "3.10.9"
  }
 },
 "nbformat": 4,
 "nbformat_minor": 5
}
