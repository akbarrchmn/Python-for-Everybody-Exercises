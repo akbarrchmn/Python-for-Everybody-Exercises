{
 "cells": [
  {
   "cell_type": "markdown",
   "id": "7f7bd8d3",
   "metadata": {},
   "source": [
    "Download a copy of the file www.py4e.com/code3/romeo.txt.\n",
    "<br>\n",
    "<br>\n",
    "Write a program to open the file *romeo.txt*, and read it line by line.\n",
    "<br>\n",
    "<br>\n",
    "For each line, split the line into a list of words using the split function.\n",
    "<br>\n",
    "<br>\n",
    "For each word, check to see if the word is already in a list.\n",
    "<br>\n",
    "<br>\n",
    "If the word is not in the list, add it to the list.\n",
    "<br>\n",
    "<br>\n",
    "When the program completes, sort and print the resulting words in alphabetical order."
   ]
  },
  {
   "cell_type": "code",
   "execution_count": null,
   "id": "81ccad08",
   "metadata": {},
   "outputs": [],
   "source": [
    "fname = input('Enter file: ')\n",
    "fhand = open(fname)\n",
    "\n",
    "lst = list()\n",
    "\n",
    "for lines in fhand :\n",
    "    word = lines.rstrip().split()\n",
    "    for element in word :\n",
    "        if element not in lst :\n",
    "            lst.append(element)\n",
    "lst.sort()\n",
    "\n",
    "print(lst) "
   ]
  }
 ],
 "metadata": {
  "kernelspec": {
   "display_name": "Python 3 (ipykernel)",
   "language": "python",
   "name": "python3"
  },
  "language_info": {
   "codemirror_mode": {
    "name": "ipython",
    "version": 3
   },
   "file_extension": ".py",
   "mimetype": "text/x-python",
   "name": "python",
   "nbconvert_exporter": "python",
   "pygments_lexer": "ipython3",
   "version": "3.10.9"
  }
 },
 "nbformat": 4,
 "nbformat_minor": 5
}
