{
 "cells": [
  {
   "cell_type": "markdown",
   "id": "7f7bd8d3",
   "metadata": {},
   "source": [
    "Write a simple program to simulate the operation of the `grep` command on Unix.\n",
    "<br>\n",
    "<br>\n",
    "Ask the user to enter a regular expression and count the number of lines that matched the regular expressions."
   ]
  },
  {
   "cell_type": "code",
   "execution_count": null,
   "id": "81ccad08",
   "metadata": {},
   "outputs": [],
   "source": [
    "import re\n",
    "\n",
    "count = 0\n",
    "\n",
    "fname = input('Enter file name: ')\n",
    "fhand = open(fname)\n",
    "\n",
    "wname = input('Enter a regular expression: ')\n",
    "strname = str(wname)\n",
    "\n",
    "for line in fhand :\n",
    "    line = line.rstrip()\n",
    "    x = re.findall(strname, line)\n",
    "    if x != [] :\n",
    "        count = count + 1\n",
    "    \n",
    "print(fname, 'had', count, 'lines that matched', strname)"
   ]
  }
 ],
 "metadata": {
  "kernelspec": {
   "display_name": "Python 3 (ipykernel)",
   "language": "python",
   "name": "python3"
  },
  "language_info": {
   "codemirror_mode": {
    "name": "ipython",
    "version": 3
   },
   "file_extension": ".py",
   "mimetype": "text/x-python",
   "name": "python",
   "nbconvert_exporter": "python",
   "pygments_lexer": "ipython3",
   "version": "3.10.9"
  }
 },
 "nbformat": 4,
 "nbformat_minor": 5
}
