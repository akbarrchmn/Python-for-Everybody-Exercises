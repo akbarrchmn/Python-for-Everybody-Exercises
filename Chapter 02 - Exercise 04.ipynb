{
 "cells": [
  {
   "cell_type": "markdown",
   "id": "7f7bd8d3",
   "metadata": {},
   "source": [
    "Assume that we execute the following assignment statements:\n",
    "\n",
    "width = 17\n",
    "height = 12.0\n",
    "\n",
    "For each of the following expressions, write the value of the expression and the type (of the value expression)\n",
    "\n",
    "1. width//2\n",
    "2. width/2.0\n",
    "3. height/3\n",
    "4. 1 + 2 * 5"
   ]
  },
  {
   "cell_type": "code",
   "execution_count": 1,
   "id": "81ccad08",
   "metadata": {},
   "outputs": [
    {
     "name": "stdout",
     "output_type": "stream",
     "text": [
      "Enter Width: 17\n",
      "Enter Height: 12.0\n",
      "8.0\n",
      "<class 'float'>\n",
      "8.5\n",
      "<class 'float'>\n",
      "4.0\n",
      "<class 'float'>\n",
      "11\n",
      "<class 'int'>\n"
     ]
    }
   ],
   "source": [
    "inwidth = input('Enter Width: ')          #Input your width here\n",
    "fwidth = float(inwidth)                   #Convert your value to float\n",
    "inheight = input('Enter Height: ')        #Input your height here\n",
    "fheight = float(inheight)                 #Convert your height value to float type\n",
    "\n",
    "#1 width//2\n",
    "ex1 = fwidth // 2\n",
    "print(ex1)\n",
    "print(type(ex1))\n",
    "\n",
    "#2 width/2.0\n",
    "ex2 = fwidth/2.0\n",
    "print(ex2)\n",
    "print(type(ex2))\n",
    "\n",
    "#3 height/3\n",
    "ex3 = fheight/3\n",
    "print(ex3)\n",
    "print(type(ex3))\n",
    "\n",
    "# 1 + 2 * 5\n",
    "ex4 = 1 + 2 * 5\n",
    "print(ex4)\n",
    "print(type(ex4))"
   ]
  }
 ],
 "metadata": {
  "kernelspec": {
   "display_name": "Python 3 (ipykernel)",
   "language": "python",
   "name": "python3"
  },
  "language_info": {
   "codemirror_mode": {
    "name": "ipython",
    "version": 3
   },
   "file_extension": ".py",
   "mimetype": "text/x-python",
   "name": "python",
   "nbconvert_exporter": "python",
   "pygments_lexer": "ipython3",
   "version": "3.10.9"
  }
 },
 "nbformat": 4,
 "nbformat_minor": 5
}
