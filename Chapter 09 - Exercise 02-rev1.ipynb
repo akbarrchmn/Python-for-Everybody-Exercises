{
 "cells": [
  {
   "cell_type": "markdown",
   "id": "7f7bd8d3",
   "metadata": {},
   "source": [
    "Write a program that categorizes each mail message by which day of the wek the commit was done.\n",
    "<br>\n",
    "<br>\n",
    "To do this, look for lines that start with \"From\", then look for the third word and keep running count of each of the days of the week.\n",
    "<br>\n",
    "<br>\n",
    "At the end of the program, print out the contents of your dictionary (order does not matter)."
   ]
  },
  {
   "cell_type": "code",
   "execution_count": null,
   "id": "81ccad08",
   "metadata": {},
   "outputs": [],
   "source": [
    "fname = input('Enter a file name: ')\n",
    "fhand = open(fname)\n",
    "\n",
    "counts = dict()\n",
    "\n",
    "for line in fhand :\n",
    "    words = line.rstrip().split()\n",
    "    if len(words) == 0 or words[0] != 'From' :\n",
    "        continue\n",
    "    words2 = words[1]\n",
    "    if words2 not in counts :\n",
    "        counts[words2] = 1\n",
    "    else :\n",
    "        counts[words2] = counts[words2] + 1\n",
    "\n",
    "print(counts)"
   ]
  }
 ],
 "metadata": {
  "kernelspec": {
   "display_name": "Python 3 (ipykernel)",
   "language": "python",
   "name": "python3"
  },
  "language_info": {
   "codemirror_mode": {
    "name": "ipython",
    "version": 3
   },
   "file_extension": ".py",
   "mimetype": "text/x-python",
   "name": "python",
   "nbconvert_exporter": "python",
   "pygments_lexer": "ipython3",
   "version": "3.10.9"
  }
 },
 "nbformat": 4,
 "nbformat_minor": 5
}
